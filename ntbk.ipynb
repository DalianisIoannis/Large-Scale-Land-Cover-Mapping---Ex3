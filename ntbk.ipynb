{
 "cells": [
  {
   "cell_type": "code",
   "execution_count": 2,
   "metadata": {},
   "outputs": [
    {
     "name": "stdout",
     "output_type": "stream",
     "text": [
      "Exercise4\n",
      "\ttimematch_data\n",
      "\t\tdenmark\n",
      "\t\t\t32VNH\n",
      "\t\t\t\t2017\n",
      "\t\t\t\t\tdata\n",
      "\t\t\t\t\tmeta\n",
      "\t\t\t\t\t\tblocks\n",
      "\t\t\t\t\t\t\tblocks_denmark_32VNH_2017.cpg\n",
      "\t\t\t\t\t\t\tblocks_denmark_32VNH_2017.dbf\n",
      "\t\t\t\t\t\t\tblocks_denmark_32VNH_2017.prj\n",
      "\t\t\t\t\t\t\tblocks_denmark_32VNH_2017.shp\n",
      "\t\t\t\t\t\t\tblocks_denmark_32VNH_2017.shx\n",
      "\t\t\t\t\t\tdates.json\n",
      "\t\t\t\t\t\tlabels.json\n",
      "\t\t\t\t\t\tmetadata.pkl\n",
      "\t\t\t\t\t\tparcels\n",
      "Number of '.zarr' files: 5001\n"
     ]
    }
   ],
   "source": [
    "import os\n",
    "\n",
    "def traverse_directory(path, level=0):\n",
    "    zarr_count = 0\n",
    "    \n",
    "    if not path.endswith('.zarr'):\n",
    "        print('\\t' * level + os.path.basename(path))\n",
    "    else:\n",
    "        zarr_count += 1\n",
    "        return zarr_count\n",
    "    \n",
    "    # Traverse the directory\n",
    "    with os.scandir(path) as it:\n",
    "        for entry in it:\n",
    "            if entry.is_dir():\n",
    "                # Recursively traverse subdirectories\n",
    "                zarr_count += traverse_directory(entry.path, level + 1)\n",
    "            elif entry.is_file():\n",
    "                if entry.name.endswith('.zarr'):\n",
    "                    zarr_count += 1\n",
    "                else:\n",
    "                    print('\\t' * (level + 1) + entry.name)\n",
    "    \n",
    "    return zarr_count\n",
    "\n",
    "# Example usage\n",
    "path_to_traverse = 'Exercise4'\n",
    "zarr_files_count = traverse_directory(path_to_traverse)\n",
    "\n",
    "print(f\"Number of '.zarr' files: {zarr_files_count}\")"
   ]
  }
 ],
 "metadata": {
  "kernelspec": {
   "display_name": "venv",
   "language": "python",
   "name": "python3"
  },
  "language_info": {
   "codemirror_mode": {
    "name": "ipython",
    "version": 3
   },
   "file_extension": ".py",
   "mimetype": "text/x-python",
   "name": "python",
   "nbconvert_exporter": "python",
   "pygments_lexer": "ipython3",
   "version": "3.10.0"
  }
 },
 "nbformat": 4,
 "nbformat_minor": 2
}
